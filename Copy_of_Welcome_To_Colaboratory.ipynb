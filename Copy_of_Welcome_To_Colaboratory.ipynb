{
  "nbformat": 4,
  "nbformat_minor": 0,
  "metadata": {
    "colab": {
      "name": "Copy of Welcome To Colaboratory",
      "provenance": [],
      "collapsed_sections": [],
      "include_colab_link": true
    },
    "kernelspec": {
      "display_name": "Python 3",
      "name": "python3"
    }
  },
  "cells": [
    {
      "cell_type": "markdown",
      "metadata": {
        "id": "view-in-github",
        "colab_type": "text"
      },
      "source": [
        "<a href=\"https://colab.research.google.com/github/Harsha13042000/assignment/blob/main/Copy_of_Welcome_To_Colaboratory.ipynb\" target=\"_parent\"><img src=\"https://colab.research.google.com/assets/colab-badge.svg\" alt=\"Open In Colab\"/></a>"
      ]
    },
    {
      "cell_type": "code",
      "metadata": {
        "id": "-58HAfZ-4k92",
        "colab": {
          "base_uri": "https://localhost:8080/"
        },
        "outputId": "736690f3-dddf-4591-c08c-54831bd4be5f"
      },
      "source": [
        "altitude = int(input(\"please enter the altitude range\"))\r\n",
        "if altitude <= 1000:\r\n",
        "   print(\"please land the plane\")\r\n",
        "elif altitude > 1000 and altitude < 5000:\r\n",
        "   print(\"ask the pilot to come down to 1000ft\")\r\n",
        "else:\r\n",
        "   print(\"ask the pilot to go around and try later\")   "
      ],
      "execution_count": null,
      "outputs": [
        {
          "output_type": "stream",
          "text": [
            "please enter the altitude range1000\n",
            "please land the plane\n"
          ],
          "name": "stdout"
        }
      ]
    }
  ]
}